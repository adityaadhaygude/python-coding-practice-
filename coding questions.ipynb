{
 "cells": [
  {
   "cell_type": "code",
   "execution_count": 46,
   "metadata": {},
   "outputs": [
    {
     "name": "stdout",
     "output_type": "stream",
     "text": [
      "[['O', 'M', 'X', 'M', 'X', 'M', 'O', 'M'], ['O', 'M', 'O', 'M', 'X', 'X', 'O', 'X'], ['X', 'O', 'X', 'O', 'X', 'X', 'X', 'O'], ['O', 'M', 'M', 'O', 'O', 'M', 'X', 'X'], ['X', 'M', 'O', 'M', 'M', 'X', 'M', 'X'], ['O', 'M', 'O', 'O', 'M', 'M', 'X', 'M']]\n",
      "[[-1, 0, -1, 0, -1, 0, -1, 0], [-1, 0, -1, 0, -1, -1, -1, -1], [-1, -1, -1, -1, -1, -1, -1, -1], [-1, 0, 0, -1, -1, 0, -1, -1], [-1, 0, -1, 0, 0, -1, 0, -1], [-1, 0, -1, -1, 0, 0, -1, 0]]\n"
     ]
    },
    {
     "data": {
      "text/plain": [
       "[[1, 0, -1, 0, -1, 0, 1, 0],\n",
       " [1, 0, 1, 0, -1, -1, 2, -1],\n",
       " [-1, 1, -1, 1, -1, -1, -1, 0],\n",
       " [1, 0, 0, 1, 1, 0, -1, -1],\n",
       " [-1, 0, 1, 0, 0, -1, 0, -1],\n",
       " [1, 0, 1, 1, 0, 0, -1, 0]]"
      ]
     },
     "execution_count": 46,
     "metadata": {},
     "output_type": "execute_result"
    }
   ],
   "source": [
    "def min_dist(arr,m,n):\n",
    "    li = [[-1 for i in range(n)]for j in range(m)]\n",
    "    cnt=1\n",
    "    check=0\n",
    "    for i in range(m):\n",
    "        for j in range(n):\n",
    "            if arr[i][j] == 'M':\n",
    "                li[i][j] = 0\n",
    "    print(li)\n",
    "    for row in range(m):\n",
    "        for col in range(n):\n",
    "            if col == n-1:\n",
    "                right = -10\n",
    "            else:\n",
    "                right = li[row][col+1]\n",
    "            \n",
    "            if col == 0:\n",
    "                left=-10\n",
    "            else:\n",
    "                left = li[row][col-1]\n",
    "                \n",
    "            if row == 0:\n",
    "                top=-10\n",
    "            else:\n",
    "                top = li[row-1][col]\n",
    "                \n",
    "            if row == m-1:\n",
    "                down=-10\n",
    "            else:\n",
    "                down = li[row+1][col]\n",
    "                \n",
    "            if arr[row][col] == 'O':\n",
    "                if row == 0 or col==0:\n",
    "                    check = 1\n",
    "                else:\n",
    "                    if right == 0 or left == 0 or top == 0 or down == 0:\n",
    "                        check = 1\n",
    "                    else:\n",
    "                        check =  max(right,top,down,left)+1\n",
    "                li[row][col] = check\n",
    "                \n",
    "                    \n",
    "\n",
    "    return li           \n",
    "\n",
    "arr=[['O','M','X','M','X','M','O','M'],\n",
    "     ['O','M','O','M','X','X','O','X'],\n",
    "     ['X','O','X','O','X','X','X','O'],\n",
    "     ['O','M','M','O','O','M','X','X'],\n",
    "     ['X','M','O','M','M','X','M','X'],\n",
    "     ['O','M','O','O','M','M','X','M'],\n",
    "    ]\n",
    "m=6\n",
    "n=8\n",
    "print(arr)\n",
    "res=min_dist(arr,m,n)\n",
    "res"
   ]
  },
  {
   "cell_type": "code",
   "execution_count": 56,
   "metadata": {},
   "outputs": [
    {
     "data": {
      "text/plain": [
       "[1, 2, 3]"
      ]
     },
     "execution_count": 56,
     "metadata": {},
     "output_type": "execute_result"
    }
   ],
   "source": [
    "def perm(arr):\n",
    "    for i in range(1,len(arr)-1):\n",
    "        if arr[i]<arr[i+1]:\n",
    "            arr[i],arr[i+1] = arr[i+1],arr[i]\n",
    "        else:\n",
    "            arr.sort()\n",
    "    return arr\n",
    "arr=[3,2,1]\n",
    "perm(arr)"
   ]
  }
 ],
 "metadata": {
  "kernelspec": {
   "display_name": "Python 3",
   "language": "python",
   "name": "python3"
  },
  "language_info": {
   "codemirror_mode": {
    "name": "ipython",
    "version": 3
   },
   "file_extension": ".py",
   "mimetype": "text/x-python",
   "name": "python",
   "nbconvert_exporter": "python",
   "pygments_lexer": "ipython3",
   "version": "3.8.1"
  }
 },
 "nbformat": 4,
 "nbformat_minor": 4
}
